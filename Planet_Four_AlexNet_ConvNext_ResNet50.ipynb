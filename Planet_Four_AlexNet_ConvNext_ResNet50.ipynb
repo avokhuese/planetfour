{
  "cells": [
    {
      "cell_type": "code",
      "execution_count": null,
      "metadata": {
        "id": "M4xz5L7LYGQD"
      },
      "outputs": [],
      "source": [
        "#@title Execution parameters\n",
        "#@markdown Forms support many types of fields.\n",
        "\n",
        "dataset_url = 'https://www.eeng.dcu.ie/~mcguinne/data/ee514/planetfour/planetfour.tar'  #@param {type: \"string\"}\n"
      ],
      "id": "M4xz5L7LYGQD"
    },
    {
      "cell_type": "markdown",
      "metadata": {
        "id": "1e4b5617-aa46-4385-9964-a3bac5ae5a15"
      },
      "source": [
        "## Planet four image classification"
      ],
      "id": "1e4b5617-aa46-4385-9964-a3bac5ae5a15"
    },
    {
      "cell_type": "code",
      "execution_count": null,
      "metadata": {
        "id": "746335e6-87ca-4786-ada5-a042ad526425"
      },
      "outputs": [],
      "source": [
        "import numpy as np\n",
        "import matplotlib.pyplot as plt\n",
        "import pandas as pd\n",
        "\n",
        "import torch\n",
        "import torch.nn.functional as F\n",
        "import torch.nn as nn\n",
        "import torch.optim as optim\n",
        "import torchvision.transforms as transforms\n",
        "import torchvision.models as models\n",
        "import sklearn.metrics as metrics\n",
        "import tqdm\n",
        "\n",
        "from torch.utils.data import DataLoader\n",
        "from torchvision.datasets.folder import pil_loader\n",
        "from pathlib import Path\n",
        "from PIL import Image"
      ],
      "id": "746335e6-87ca-4786-ada5-a042ad526425"
    },
    {
      "cell_type": "markdown",
      "metadata": {
        "id": "2c002513-1fe7-4786-88cd-07d35fc0b430"
      },
      "source": [
        "Change the device to \"cpu\" if you want to train on a CPU instead of a GPU."
      ],
      "id": "2c002513-1fe7-4786-88cd-07d35fc0b430"
    },
    {
      "cell_type": "code",
      "execution_count": null,
      "metadata": {
        "id": "bad120f2-9393-4c57-87a7-8197e9a1245d"
      },
      "outputs": [],
      "source": [
        "device = 'cuda'"
      ],
      "id": "bad120f2-9393-4c57-87a7-8197e9a1245d"
    },
    {
      "cell_type": "markdown",
      "metadata": {
        "id": "837c532e-5cfc-4216-a321-419968407f37"
      },
      "source": [
        "## Dataset\n",
        "\n",
        "Here we define a custom Dataset object for the Planet Four data. You can read more about this in the PyTorch documentation: https://pytorch.org/tutorials/beginner/basics/data_tutorial.html"
      ],
      "id": "837c532e-5cfc-4216-a321-419968407f37"
    },
    {
      "cell_type": "code",
      "execution_count": null,
      "metadata": {
        "id": "CLgS3kqRX6wZ",
        "colab": {
          "base_uri": "https://localhost:8080/"
        },
        "outputId": "d0136883-0904-41b9-9ab7-aa02b6c15395"
      },
      "outputs": [
        {
          "output_type": "stream",
          "name": "stdout",
          "text": [
            "curl: no URL specified!\n",
            "curl: try 'curl --help' or 'curl --manual' for more information\n",
            "tar: data/dataset.tar: Cannot open: No such file or directory\n",
            "tar: Error is not recoverable: exiting now\n",
            "rm: cannot remove 'data/dataset.tar': No such file or directory\n"
          ]
        }
      ],
      "source": [
        "data_dir = Path('data')\n",
        "!mkdir -p $data_dir\n",
        "!curl -k $dataset_url > $data_dir/dataset.tar\n",
        "!tar -C $data_dir/ -xvf $data_dir/dataset.tar\n",
        "!rm $data_dir/dataset.tar\n",
        "!mkdir -p checkpoints"
      ],
      "id": "CLgS3kqRX6wZ"
    },
    {
      "cell_type": "code",
      "execution_count": null,
      "metadata": {
        "id": "ba9356db-6837-4444-bdab-a4aea56007a9"
      },
      "outputs": [],
      "source": [
        "class PlanetFourDataset(object):\n",
        "    def __init__(self, split='train', transform=None, loader=pil_loader):\n",
        "        super().__init__()\n",
        "        self.split = split\n",
        "        self.base_dir = Path('data/planetfour')\n",
        "        self.image_dir = self.base_dir / split\n",
        "        self.labels_file = self.base_dir / (split + '.csv')\n",
        "        self.labels_df = pd.read_csv(self.labels_file)\n",
        "        self.transform = transform\n",
        "        self.loader = loader\n",
        "        \n",
        "    def __getitem__(self, index):\n",
        "        row = self.labels_df.iloc[index]\n",
        "        filename = self.image_dir / (row.tile_id + '.jpg')\n",
        "        fans = int(row.fans)\n",
        "        blotches = int(row.blotches)\n",
        "        image = self.loader(str(filename))\n",
        "        if self.transform is not None:\n",
        "            image = self.transform(image)\n",
        "        return image, torch.tensor([fans, blotches], dtype=torch.float32)\n",
        "    \n",
        "    def __len__(self):\n",
        "        return len(self.labels_df)"
      ],
      "id": "ba9356db-6837-4444-bdab-a4aea56007a9"
    },
    {
      "cell_type": "markdown",
      "metadata": {
        "id": "bb6ef1da-a034-4d88-bbab-64dbce05da6a"
      },
      "source": [
        "## Data augmentation\n",
        "\n",
        "It is standard practice in deep learning to augment the training examples to prevent the network from overfitting. Here I use some standard augmentations such as randomly mirroring the images."
      ],
      "id": "bb6ef1da-a034-4d88-bbab-64dbce05da6a"
    },
    {
      "cell_type": "code",
      "execution_count": null,
      "metadata": {
        "id": "198239e2-84ff-4e33-a1dd-7b9a18f68d49"
      },
      "outputs": [],
      "source": [
        "train_transform = transforms.Compose([\n",
        "    transforms.RandomHorizontalFlip(),\n",
        "    transforms.ToTensor(),\n",
        "    transforms.Normalize((0.4914, 0.4822, 0.4465), (0.2023, 0.1994, 0.2010))                  \n",
        "])\n",
        "\n",
        "valid_transform = transforms.Compose([\n",
        "    transforms.ToTensor(),\n",
        "    transforms.Normalize((0.4914, 0.4822, 0.4465), (0.2023, 0.1994, 0.2010)) \n",
        "])"
      ],
      "id": "198239e2-84ff-4e33-a1dd-7b9a18f68d49"
    },
    {
      "cell_type": "markdown",
      "metadata": {
        "id": "7d7a5b9c-33a6-4bfc-a699-05f3415de676"
      },
      "source": [
        "## Data loaders\n",
        "\n",
        "In PyTorch, the data loaders take care of spinning up threads to load batches of data into memory from the dataset object."
      ],
      "id": "7d7a5b9c-33a6-4bfc-a699-05f3415de676"
    },
    {
      "cell_type": "code",
      "execution_count": null,
      "metadata": {
        "id": "f8b2fb4c-e711-49a0-9a21-fb8249972ffc",
        "colab": {
          "base_uri": "https://localhost:8080/",
          "height": 380
        },
        "outputId": "4eba7370-3348-465f-9e23-b9a511627ab2"
      },
      "outputs": [
        {
          "output_type": "error",
          "ename": "FileNotFoundError",
          "evalue": "ignored",
          "traceback": [
            "\u001b[0;31m---------------------------------------------------------------------------\u001b[0m",
            "\u001b[0;31mFileNotFoundError\u001b[0m                         Traceback (most recent call last)",
            "\u001b[0;32m<ipython-input-6-295a586ee070>\u001b[0m in \u001b[0;36m<cell line: 1>\u001b[0;34m()\u001b[0m\n\u001b[0;32m----> 1\u001b[0;31m \u001b[0mtrain_set\u001b[0m \u001b[0;34m=\u001b[0m \u001b[0mPlanetFourDataset\u001b[0m\u001b[0;34m(\u001b[0m\u001b[0;34m'train'\u001b[0m\u001b[0;34m,\u001b[0m \u001b[0mtransform\u001b[0m\u001b[0;34m=\u001b[0m\u001b[0mtrain_transform\u001b[0m\u001b[0;34m)\u001b[0m\u001b[0;34m\u001b[0m\u001b[0;34m\u001b[0m\u001b[0m\n\u001b[0m\u001b[1;32m      2\u001b[0m \u001b[0mvalid_set\u001b[0m \u001b[0;34m=\u001b[0m \u001b[0mPlanetFourDataset\u001b[0m\u001b[0;34m(\u001b[0m\u001b[0;34m'valid'\u001b[0m\u001b[0;34m,\u001b[0m \u001b[0mtransform\u001b[0m\u001b[0;34m=\u001b[0m\u001b[0mtrain_transform\u001b[0m\u001b[0;34m)\u001b[0m\u001b[0;34m\u001b[0m\u001b[0;34m\u001b[0m\u001b[0m\n\u001b[1;32m      3\u001b[0m \u001b[0;34m\u001b[0m\u001b[0m\n\u001b[1;32m      4\u001b[0m \u001b[0mtrain_loader\u001b[0m \u001b[0;34m=\u001b[0m \u001b[0mDataLoader\u001b[0m\u001b[0;34m(\u001b[0m\u001b[0mtrain_set\u001b[0m\u001b[0;34m,\u001b[0m \u001b[0mbatch_size\u001b[0m\u001b[0;34m=\u001b[0m\u001b[0;36m64\u001b[0m\u001b[0;34m,\u001b[0m \u001b[0mshuffle\u001b[0m\u001b[0;34m=\u001b[0m\u001b[0;32mTrue\u001b[0m\u001b[0;34m)\u001b[0m\u001b[0;34m\u001b[0m\u001b[0;34m\u001b[0m\u001b[0m\n\u001b[1;32m      5\u001b[0m \u001b[0mvalid_loader\u001b[0m \u001b[0;34m=\u001b[0m \u001b[0mDataLoader\u001b[0m\u001b[0;34m(\u001b[0m\u001b[0mvalid_set\u001b[0m\u001b[0;34m,\u001b[0m \u001b[0mbatch_size\u001b[0m\u001b[0;34m=\u001b[0m\u001b[0;36m64\u001b[0m\u001b[0;34m,\u001b[0m \u001b[0mshuffle\u001b[0m\u001b[0;34m=\u001b[0m\u001b[0;32mFalse\u001b[0m\u001b[0;34m)\u001b[0m\u001b[0;34m\u001b[0m\u001b[0;34m\u001b[0m\u001b[0m\n",
            "\u001b[0;32m<ipython-input-4-3fd04e906d1d>\u001b[0m in \u001b[0;36m__init__\u001b[0;34m(self, split, transform, loader)\u001b[0m\n\u001b[1;32m      6\u001b[0m         \u001b[0mself\u001b[0m\u001b[0;34m.\u001b[0m\u001b[0mimage_dir\u001b[0m \u001b[0;34m=\u001b[0m \u001b[0mself\u001b[0m\u001b[0;34m.\u001b[0m\u001b[0mbase_dir\u001b[0m \u001b[0;34m/\u001b[0m \u001b[0msplit\u001b[0m\u001b[0;34m\u001b[0m\u001b[0;34m\u001b[0m\u001b[0m\n\u001b[1;32m      7\u001b[0m         \u001b[0mself\u001b[0m\u001b[0;34m.\u001b[0m\u001b[0mlabels_file\u001b[0m \u001b[0;34m=\u001b[0m \u001b[0mself\u001b[0m\u001b[0;34m.\u001b[0m\u001b[0mbase_dir\u001b[0m \u001b[0;34m/\u001b[0m \u001b[0;34m(\u001b[0m\u001b[0msplit\u001b[0m \u001b[0;34m+\u001b[0m \u001b[0;34m'.csv'\u001b[0m\u001b[0;34m)\u001b[0m\u001b[0;34m\u001b[0m\u001b[0;34m\u001b[0m\u001b[0m\n\u001b[0;32m----> 8\u001b[0;31m         \u001b[0mself\u001b[0m\u001b[0;34m.\u001b[0m\u001b[0mlabels_df\u001b[0m \u001b[0;34m=\u001b[0m \u001b[0mpd\u001b[0m\u001b[0;34m.\u001b[0m\u001b[0mread_csv\u001b[0m\u001b[0;34m(\u001b[0m\u001b[0mself\u001b[0m\u001b[0;34m.\u001b[0m\u001b[0mlabels_file\u001b[0m\u001b[0;34m)\u001b[0m\u001b[0;34m\u001b[0m\u001b[0;34m\u001b[0m\u001b[0m\n\u001b[0m\u001b[1;32m      9\u001b[0m         \u001b[0mself\u001b[0m\u001b[0;34m.\u001b[0m\u001b[0mtransform\u001b[0m \u001b[0;34m=\u001b[0m \u001b[0mtransform\u001b[0m\u001b[0;34m\u001b[0m\u001b[0;34m\u001b[0m\u001b[0m\n\u001b[1;32m     10\u001b[0m         \u001b[0mself\u001b[0m\u001b[0;34m.\u001b[0m\u001b[0mloader\u001b[0m \u001b[0;34m=\u001b[0m \u001b[0mloader\u001b[0m\u001b[0;34m\u001b[0m\u001b[0;34m\u001b[0m\u001b[0m\n",
            "\u001b[0;32m/usr/local/lib/python3.9/dist-packages/pandas/util/_decorators.py\u001b[0m in \u001b[0;36mwrapper\u001b[0;34m(*args, **kwargs)\u001b[0m\n\u001b[1;32m    209\u001b[0m                 \u001b[0;32melse\u001b[0m\u001b[0;34m:\u001b[0m\u001b[0;34m\u001b[0m\u001b[0;34m\u001b[0m\u001b[0m\n\u001b[1;32m    210\u001b[0m                     \u001b[0mkwargs\u001b[0m\u001b[0;34m[\u001b[0m\u001b[0mnew_arg_name\u001b[0m\u001b[0;34m]\u001b[0m \u001b[0;34m=\u001b[0m \u001b[0mnew_arg_value\u001b[0m\u001b[0;34m\u001b[0m\u001b[0;34m\u001b[0m\u001b[0m\n\u001b[0;32m--> 211\u001b[0;31m             \u001b[0;32mreturn\u001b[0m \u001b[0mfunc\u001b[0m\u001b[0;34m(\u001b[0m\u001b[0;34m*\u001b[0m\u001b[0margs\u001b[0m\u001b[0;34m,\u001b[0m \u001b[0;34m**\u001b[0m\u001b[0mkwargs\u001b[0m\u001b[0;34m)\u001b[0m\u001b[0;34m\u001b[0m\u001b[0;34m\u001b[0m\u001b[0m\n\u001b[0m\u001b[1;32m    212\u001b[0m \u001b[0;34m\u001b[0m\u001b[0m\n\u001b[1;32m    213\u001b[0m         \u001b[0;32mreturn\u001b[0m \u001b[0mcast\u001b[0m\u001b[0;34m(\u001b[0m\u001b[0mF\u001b[0m\u001b[0;34m,\u001b[0m \u001b[0mwrapper\u001b[0m\u001b[0;34m)\u001b[0m\u001b[0;34m\u001b[0m\u001b[0;34m\u001b[0m\u001b[0m\n",
            "\u001b[0;32m/usr/local/lib/python3.9/dist-packages/pandas/util/_decorators.py\u001b[0m in \u001b[0;36mwrapper\u001b[0;34m(*args, **kwargs)\u001b[0m\n\u001b[1;32m    329\u001b[0m                     \u001b[0mstacklevel\u001b[0m\u001b[0;34m=\u001b[0m\u001b[0mfind_stack_level\u001b[0m\u001b[0;34m(\u001b[0m\u001b[0;34m)\u001b[0m\u001b[0;34m,\u001b[0m\u001b[0;34m\u001b[0m\u001b[0;34m\u001b[0m\u001b[0m\n\u001b[1;32m    330\u001b[0m                 )\n\u001b[0;32m--> 331\u001b[0;31m             \u001b[0;32mreturn\u001b[0m \u001b[0mfunc\u001b[0m\u001b[0;34m(\u001b[0m\u001b[0;34m*\u001b[0m\u001b[0margs\u001b[0m\u001b[0;34m,\u001b[0m \u001b[0;34m**\u001b[0m\u001b[0mkwargs\u001b[0m\u001b[0;34m)\u001b[0m\u001b[0;34m\u001b[0m\u001b[0;34m\u001b[0m\u001b[0m\n\u001b[0m\u001b[1;32m    332\u001b[0m \u001b[0;34m\u001b[0m\u001b[0m\n\u001b[1;32m    333\u001b[0m         \u001b[0;31m# error: \"Callable[[VarArg(Any), KwArg(Any)], Any]\" has no\u001b[0m\u001b[0;34m\u001b[0m\u001b[0;34m\u001b[0m\u001b[0m\n",
            "\u001b[0;32m/usr/local/lib/python3.9/dist-packages/pandas/io/parsers/readers.py\u001b[0m in \u001b[0;36mread_csv\u001b[0;34m(filepath_or_buffer, sep, delimiter, header, names, index_col, usecols, squeeze, prefix, mangle_dupe_cols, dtype, engine, converters, true_values, false_values, skipinitialspace, skiprows, skipfooter, nrows, na_values, keep_default_na, na_filter, verbose, skip_blank_lines, parse_dates, infer_datetime_format, keep_date_col, date_parser, dayfirst, cache_dates, iterator, chunksize, compression, thousands, decimal, lineterminator, quotechar, quoting, doublequote, escapechar, comment, encoding, encoding_errors, dialect, error_bad_lines, warn_bad_lines, on_bad_lines, delim_whitespace, low_memory, memory_map, float_precision, storage_options)\u001b[0m\n\u001b[1;32m    948\u001b[0m     \u001b[0mkwds\u001b[0m\u001b[0;34m.\u001b[0m\u001b[0mupdate\u001b[0m\u001b[0;34m(\u001b[0m\u001b[0mkwds_defaults\u001b[0m\u001b[0;34m)\u001b[0m\u001b[0;34m\u001b[0m\u001b[0;34m\u001b[0m\u001b[0m\n\u001b[1;32m    949\u001b[0m \u001b[0;34m\u001b[0m\u001b[0m\n\u001b[0;32m--> 950\u001b[0;31m     \u001b[0;32mreturn\u001b[0m \u001b[0m_read\u001b[0m\u001b[0;34m(\u001b[0m\u001b[0mfilepath_or_buffer\u001b[0m\u001b[0;34m,\u001b[0m \u001b[0mkwds\u001b[0m\u001b[0;34m)\u001b[0m\u001b[0;34m\u001b[0m\u001b[0;34m\u001b[0m\u001b[0m\n\u001b[0m\u001b[1;32m    951\u001b[0m \u001b[0;34m\u001b[0m\u001b[0m\n\u001b[1;32m    952\u001b[0m \u001b[0;34m\u001b[0m\u001b[0m\n",
            "\u001b[0;32m/usr/local/lib/python3.9/dist-packages/pandas/io/parsers/readers.py\u001b[0m in \u001b[0;36m_read\u001b[0;34m(filepath_or_buffer, kwds)\u001b[0m\n\u001b[1;32m    603\u001b[0m \u001b[0;34m\u001b[0m\u001b[0m\n\u001b[1;32m    604\u001b[0m     \u001b[0;31m# Create the parser.\u001b[0m\u001b[0;34m\u001b[0m\u001b[0;34m\u001b[0m\u001b[0m\n\u001b[0;32m--> 605\u001b[0;31m     \u001b[0mparser\u001b[0m \u001b[0;34m=\u001b[0m \u001b[0mTextFileReader\u001b[0m\u001b[0;34m(\u001b[0m\u001b[0mfilepath_or_buffer\u001b[0m\u001b[0;34m,\u001b[0m \u001b[0;34m**\u001b[0m\u001b[0mkwds\u001b[0m\u001b[0;34m)\u001b[0m\u001b[0;34m\u001b[0m\u001b[0;34m\u001b[0m\u001b[0m\n\u001b[0m\u001b[1;32m    606\u001b[0m \u001b[0;34m\u001b[0m\u001b[0m\n\u001b[1;32m    607\u001b[0m     \u001b[0;32mif\u001b[0m \u001b[0mchunksize\u001b[0m \u001b[0;32mor\u001b[0m \u001b[0miterator\u001b[0m\u001b[0;34m:\u001b[0m\u001b[0;34m\u001b[0m\u001b[0;34m\u001b[0m\u001b[0m\n",
            "\u001b[0;32m/usr/local/lib/python3.9/dist-packages/pandas/io/parsers/readers.py\u001b[0m in \u001b[0;36m__init__\u001b[0;34m(self, f, engine, **kwds)\u001b[0m\n\u001b[1;32m   1440\u001b[0m \u001b[0;34m\u001b[0m\u001b[0m\n\u001b[1;32m   1441\u001b[0m         \u001b[0mself\u001b[0m\u001b[0;34m.\u001b[0m\u001b[0mhandles\u001b[0m\u001b[0;34m:\u001b[0m \u001b[0mIOHandles\u001b[0m \u001b[0;34m|\u001b[0m \u001b[0;32mNone\u001b[0m \u001b[0;34m=\u001b[0m \u001b[0;32mNone\u001b[0m\u001b[0;34m\u001b[0m\u001b[0;34m\u001b[0m\u001b[0m\n\u001b[0;32m-> 1442\u001b[0;31m         \u001b[0mself\u001b[0m\u001b[0;34m.\u001b[0m\u001b[0m_engine\u001b[0m \u001b[0;34m=\u001b[0m \u001b[0mself\u001b[0m\u001b[0;34m.\u001b[0m\u001b[0m_make_engine\u001b[0m\u001b[0;34m(\u001b[0m\u001b[0mf\u001b[0m\u001b[0;34m,\u001b[0m \u001b[0mself\u001b[0m\u001b[0;34m.\u001b[0m\u001b[0mengine\u001b[0m\u001b[0;34m)\u001b[0m\u001b[0;34m\u001b[0m\u001b[0;34m\u001b[0m\u001b[0m\n\u001b[0m\u001b[1;32m   1443\u001b[0m \u001b[0;34m\u001b[0m\u001b[0m\n\u001b[1;32m   1444\u001b[0m     \u001b[0;32mdef\u001b[0m \u001b[0mclose\u001b[0m\u001b[0;34m(\u001b[0m\u001b[0mself\u001b[0m\u001b[0;34m)\u001b[0m \u001b[0;34m->\u001b[0m \u001b[0;32mNone\u001b[0m\u001b[0;34m:\u001b[0m\u001b[0;34m\u001b[0m\u001b[0;34m\u001b[0m\u001b[0m\n",
            "\u001b[0;32m/usr/local/lib/python3.9/dist-packages/pandas/io/parsers/readers.py\u001b[0m in \u001b[0;36m_make_engine\u001b[0;34m(self, f, engine)\u001b[0m\n\u001b[1;32m   1733\u001b[0m                 \u001b[0;32mif\u001b[0m \u001b[0;34m\"b\"\u001b[0m \u001b[0;32mnot\u001b[0m \u001b[0;32min\u001b[0m \u001b[0mmode\u001b[0m\u001b[0;34m:\u001b[0m\u001b[0;34m\u001b[0m\u001b[0;34m\u001b[0m\u001b[0m\n\u001b[1;32m   1734\u001b[0m                     \u001b[0mmode\u001b[0m \u001b[0;34m+=\u001b[0m \u001b[0;34m\"b\"\u001b[0m\u001b[0;34m\u001b[0m\u001b[0;34m\u001b[0m\u001b[0m\n\u001b[0;32m-> 1735\u001b[0;31m             self.handles = get_handle(\n\u001b[0m\u001b[1;32m   1736\u001b[0m                 \u001b[0mf\u001b[0m\u001b[0;34m,\u001b[0m\u001b[0;34m\u001b[0m\u001b[0;34m\u001b[0m\u001b[0m\n\u001b[1;32m   1737\u001b[0m                 \u001b[0mmode\u001b[0m\u001b[0;34m,\u001b[0m\u001b[0;34m\u001b[0m\u001b[0;34m\u001b[0m\u001b[0m\n",
            "\u001b[0;32m/usr/local/lib/python3.9/dist-packages/pandas/io/common.py\u001b[0m in \u001b[0;36mget_handle\u001b[0;34m(path_or_buf, mode, encoding, compression, memory_map, is_text, errors, storage_options)\u001b[0m\n\u001b[1;32m    854\u001b[0m         \u001b[0;32mif\u001b[0m \u001b[0mioargs\u001b[0m\u001b[0;34m.\u001b[0m\u001b[0mencoding\u001b[0m \u001b[0;32mand\u001b[0m \u001b[0;34m\"b\"\u001b[0m \u001b[0;32mnot\u001b[0m \u001b[0;32min\u001b[0m \u001b[0mioargs\u001b[0m\u001b[0;34m.\u001b[0m\u001b[0mmode\u001b[0m\u001b[0;34m:\u001b[0m\u001b[0;34m\u001b[0m\u001b[0;34m\u001b[0m\u001b[0m\n\u001b[1;32m    855\u001b[0m             \u001b[0;31m# Encoding\u001b[0m\u001b[0;34m\u001b[0m\u001b[0;34m\u001b[0m\u001b[0m\n\u001b[0;32m--> 856\u001b[0;31m             handle = open(\n\u001b[0m\u001b[1;32m    857\u001b[0m                 \u001b[0mhandle\u001b[0m\u001b[0;34m,\u001b[0m\u001b[0;34m\u001b[0m\u001b[0;34m\u001b[0m\u001b[0m\n\u001b[1;32m    858\u001b[0m                 \u001b[0mioargs\u001b[0m\u001b[0;34m.\u001b[0m\u001b[0mmode\u001b[0m\u001b[0;34m,\u001b[0m\u001b[0;34m\u001b[0m\u001b[0;34m\u001b[0m\u001b[0m\n",
            "\u001b[0;31mFileNotFoundError\u001b[0m: [Errno 2] No such file or directory: 'data/planetfour/train.csv'"
          ]
        }
      ],
      "source": [
        "train_set = PlanetFourDataset('train', transform=train_transform)\n",
        "valid_set = PlanetFourDataset('valid', transform=train_transform)\n",
        "\n",
        "train_loader = DataLoader(train_set, batch_size=64, shuffle=True)\n",
        "valid_loader = DataLoader(valid_set, batch_size=64, shuffle=False)"
      ],
      "id": "f8b2fb4c-e711-49a0-9a21-fb8249972ffc"
    },
    {
      "cell_type": "markdown",
      "metadata": {
        "id": "1bbd1e9b-801b-4da5-975a-6c061b16b005"
      },
      "source": [
        "## Load a pretrained model\n",
        "\n",
        "Here we'll use ResNet50 model that has been pretrained on ImageNet and replace the final layer with a new one suited to our problem."
      ],
      "id": "1bbd1e9b-801b-4da5-975a-6c061b16b005"
    },
    {
      "cell_type": "code",
      "execution_count": null,
      "metadata": {
        "id": "9e84455f-5c9c-4ccd-a107-bf19e6fec48e",
        "colab": {
          "base_uri": "https://localhost:8080/"
        },
        "outputId": "d40a5d05-5b00-48d6-f888-18dbc223dd8a"
      },
      "outputs": [
        {
          "output_type": "stream",
          "name": "stdout",
          "text": [
            "[torch.Size([1000, 2048]), torch.Size([1000])]\n",
            "[torch.Size([2, 2048]), torch.Size([2])]\n",
            "torch.Size([64, 3, 7, 7])\n",
            "torch.Size([64])\n",
            "torch.Size([64])\n",
            "torch.Size([64, 64, 1, 1])\n",
            "torch.Size([64])\n",
            "torch.Size([64])\n",
            "torch.Size([64, 64, 3, 3])\n",
            "torch.Size([64])\n",
            "torch.Size([64])\n",
            "torch.Size([256, 64, 1, 1])\n",
            "torch.Size([256])\n",
            "torch.Size([256])\n",
            "torch.Size([256, 64, 1, 1])\n",
            "torch.Size([256])\n",
            "torch.Size([256])\n",
            "torch.Size([64, 256, 1, 1])\n",
            "torch.Size([64])\n",
            "torch.Size([64])\n",
            "torch.Size([64, 64, 3, 3])\n",
            "torch.Size([64])\n",
            "torch.Size([64])\n",
            "torch.Size([256, 64, 1, 1])\n",
            "torch.Size([256])\n",
            "torch.Size([256])\n",
            "torch.Size([64, 256, 1, 1])\n",
            "torch.Size([64])\n",
            "torch.Size([64])\n",
            "torch.Size([64, 64, 3, 3])\n",
            "torch.Size([64])\n",
            "torch.Size([64])\n",
            "torch.Size([256, 64, 1, 1])\n",
            "torch.Size([256])\n",
            "torch.Size([256])\n",
            "torch.Size([128, 256, 1, 1])\n",
            "torch.Size([128])\n",
            "torch.Size([128])\n",
            "torch.Size([128, 128, 3, 3])\n",
            "torch.Size([128])\n",
            "torch.Size([128])\n",
            "torch.Size([512, 128, 1, 1])\n",
            "torch.Size([512])\n",
            "torch.Size([512])\n",
            "torch.Size([512, 256, 1, 1])\n",
            "torch.Size([512])\n",
            "torch.Size([512])\n",
            "torch.Size([128, 512, 1, 1])\n",
            "torch.Size([128])\n",
            "torch.Size([128])\n",
            "torch.Size([128, 128, 3, 3])\n",
            "torch.Size([128])\n",
            "torch.Size([128])\n",
            "torch.Size([512, 128, 1, 1])\n",
            "torch.Size([512])\n",
            "torch.Size([512])\n",
            "torch.Size([128, 512, 1, 1])\n",
            "torch.Size([128])\n",
            "torch.Size([128])\n",
            "torch.Size([128, 128, 3, 3])\n",
            "torch.Size([128])\n",
            "torch.Size([128])\n",
            "torch.Size([512, 128, 1, 1])\n",
            "torch.Size([512])\n",
            "torch.Size([512])\n",
            "torch.Size([128, 512, 1, 1])\n",
            "torch.Size([128])\n",
            "torch.Size([128])\n",
            "torch.Size([128, 128, 3, 3])\n",
            "torch.Size([128])\n",
            "torch.Size([128])\n",
            "torch.Size([512, 128, 1, 1])\n",
            "torch.Size([512])\n",
            "torch.Size([512])\n",
            "torch.Size([256, 512, 1, 1])\n",
            "torch.Size([256])\n",
            "torch.Size([256])\n",
            "torch.Size([256, 256, 3, 3])\n",
            "torch.Size([256])\n",
            "torch.Size([256])\n",
            "torch.Size([1024, 256, 1, 1])\n",
            "torch.Size([1024])\n",
            "torch.Size([1024])\n",
            "torch.Size([1024, 512, 1, 1])\n",
            "torch.Size([1024])\n",
            "torch.Size([1024])\n",
            "torch.Size([256, 1024, 1, 1])\n",
            "torch.Size([256])\n",
            "torch.Size([256])\n",
            "torch.Size([256, 256, 3, 3])\n",
            "torch.Size([256])\n",
            "torch.Size([256])\n",
            "torch.Size([1024, 256, 1, 1])\n",
            "torch.Size([1024])\n",
            "torch.Size([1024])\n",
            "torch.Size([256, 1024, 1, 1])\n",
            "torch.Size([256])\n",
            "torch.Size([256])\n",
            "torch.Size([256, 256, 3, 3])\n",
            "torch.Size([256])\n",
            "torch.Size([256])\n",
            "torch.Size([1024, 256, 1, 1])\n",
            "torch.Size([1024])\n",
            "torch.Size([1024])\n",
            "torch.Size([256, 1024, 1, 1])\n",
            "torch.Size([256])\n",
            "torch.Size([256])\n",
            "torch.Size([256, 256, 3, 3])\n",
            "torch.Size([256])\n",
            "torch.Size([256])\n",
            "torch.Size([1024, 256, 1, 1])\n",
            "torch.Size([1024])\n",
            "torch.Size([1024])\n",
            "torch.Size([256, 1024, 1, 1])\n",
            "torch.Size([256])\n",
            "torch.Size([256])\n",
            "torch.Size([256, 256, 3, 3])\n",
            "torch.Size([256])\n",
            "torch.Size([256])\n",
            "torch.Size([1024, 256, 1, 1])\n",
            "torch.Size([1024])\n",
            "torch.Size([1024])\n",
            "torch.Size([256, 1024, 1, 1])\n",
            "torch.Size([256])\n",
            "torch.Size([256])\n",
            "torch.Size([256, 256, 3, 3])\n",
            "torch.Size([256])\n",
            "torch.Size([256])\n",
            "torch.Size([1024, 256, 1, 1])\n",
            "torch.Size([1024])\n",
            "torch.Size([1024])\n",
            "torch.Size([512, 1024, 1, 1])\n",
            "torch.Size([512])\n",
            "torch.Size([512])\n",
            "torch.Size([512, 512, 3, 3])\n",
            "torch.Size([512])\n",
            "torch.Size([512])\n",
            "torch.Size([2048, 512, 1, 1])\n",
            "torch.Size([2048])\n",
            "torch.Size([2048])\n",
            "torch.Size([2048, 1024, 1, 1])\n",
            "torch.Size([2048])\n",
            "torch.Size([2048])\n",
            "torch.Size([512, 2048, 1, 1])\n",
            "torch.Size([512])\n",
            "torch.Size([512])\n",
            "torch.Size([512, 512, 3, 3])\n",
            "torch.Size([512])\n",
            "torch.Size([512])\n",
            "torch.Size([2048, 512, 1, 1])\n",
            "torch.Size([2048])\n",
            "torch.Size([2048])\n",
            "torch.Size([512, 2048, 1, 1])\n",
            "torch.Size([512])\n",
            "torch.Size([512])\n",
            "torch.Size([512, 512, 3, 3])\n",
            "torch.Size([512])\n",
            "torch.Size([512])\n",
            "torch.Size([2048, 512, 1, 1])\n",
            "torch.Size([2048])\n",
            "torch.Size([2048])\n",
            "torch.Size([2, 2048])\n",
            "torch.Size([2])\n"
          ]
        }
      ],
      "source": [
        "model = models.resnet50(weights='ResNet50_Weights.DEFAULT')\n",
        "model.fc = nn.Linear(2048, 2)\n",
        "model.to(device);"
      ],
      "id": "9e84455f-5c9c-4ccd-a107-bf19e6fec48e"
    },
    {
      "cell_type": "markdown",
      "metadata": {
        "id": "8f3d8cc2-2be4-48e7-aa2e-f35d7a835796"
      },
      "source": [
        "## Loss\n",
        "\n",
        "Images can contain fans, blotches, both, or neither. You could treat this as a four class softmax problem, or two binary classification problems. Here I take the latter approach and use a binary cross entropy loss. "
      ],
      "id": "8f3d8cc2-2be4-48e7-aa2e-f35d7a835796"
    },
    {
      "cell_type": "code",
      "execution_count": null,
      "metadata": {
        "id": "6729d82b-3a4c-4036-a95d-70695d528bb5"
      },
      "outputs": [],
      "source": [
        "criterion = nn.BCEWithLogitsLoss()"
      ],
      "id": "6729d82b-3a4c-4036-a95d-70695d528bb5"
    },
    {
      "cell_type": "markdown",
      "metadata": {
        "id": "426c8e89-d806-420f-a76c-ab10d1d4e406"
      },
      "source": [
        "## Optimizer\n",
        "\n",
        "Stochastic gradient descent with momentum"
      ],
      "id": "426c8e89-d806-420f-a76c-ab10d1d4e406"
    },
    {
      "cell_type": "code",
      "execution_count": null,
      "metadata": {
        "id": "8eac8696-3a99-40c1-ab9f-d95971bd1f40"
      },
      "outputs": [],
      "source": [
        "optimizer = optim.SGD(model.parameters(), lr=0.001, momentum=0.9, weight_decay=1e-4)"
      ],
      "id": "8eac8696-3a99-40c1-ab9f-d95971bd1f40"
    },
    {
      "cell_type": "markdown",
      "metadata": {
        "id": "d5c709bf-c5cb-433b-b8af-678759182eef"
      },
      "source": [
        "## Training and validation functions"
      ],
      "id": "d5c709bf-c5cb-433b-b8af-678759182eef"
    },
    {
      "cell_type": "code",
      "execution_count": null,
      "metadata": {
        "id": "26eb5f0c-7b1d-49f1-8682-097d0ae64e54"
      },
      "outputs": [],
      "source": [
        "avg_train_losses = []\n",
        "avg_valid_losses = []\n",
        "valid_accuracies = []\n",
        "\n",
        "\n",
        "def train_for_epoch(optimizer):\n",
        "    model.train()\n",
        "\n",
        "    train_losses = []\n",
        "\n",
        "    for batch, target in tqdm.tqdm(train_loader):\n",
        "\n",
        "        # data to GPU\n",
        "        batch = batch.to(device)\n",
        "        target = target.to(device)\n",
        "\n",
        "        # reset optimizer\n",
        "        optimizer.zero_grad()\n",
        "\n",
        "        # forward pass\n",
        "        predictions = model(batch)\n",
        "        #breakpoint()\n",
        "\n",
        "        # calculate loss\n",
        "        loss = criterion(predictions, target)\n",
        "\n",
        "        # backward pass\n",
        "        loss.backward()\n",
        "\n",
        "        # parameter update\n",
        "        optimizer.step()\n",
        "\n",
        "        # track loss\n",
        "        train_losses.append(float(loss.item()))\n",
        "\n",
        "    train_losses = np.array(train_losses)\n",
        "    return train_losses\n",
        "\n",
        "\n",
        "def validate():\n",
        "    model.eval()\n",
        "\n",
        "    valid_losses = []\n",
        "    y_true, y_prob = [], []\n",
        "\n",
        "    with torch.no_grad():\n",
        "        for batch, target in valid_loader:\n",
        "\n",
        "            # move data to the device\n",
        "            batch = batch.to(device)\n",
        "            target = target.to(device)\n",
        "\n",
        "            # make predictions\n",
        "            predictions = model(batch)\n",
        "\n",
        "            # calculate loss\n",
        "            loss = criterion(predictions, target)\n",
        "            \n",
        "            # logits -> probabilities\n",
        "            torch.sigmoid_(predictions)\n",
        "\n",
        "            # track losses and predictions\n",
        "            valid_losses.append(float(loss.item()))\n",
        "            y_true.extend(target.cpu().numpy())\n",
        "            y_prob.extend(predictions.cpu().numpy())\n",
        "            \n",
        "    y_true = np.array(y_true)\n",
        "    y_prob = np.array(y_prob)\n",
        "    y_pred = y_prob > 0.5\n",
        "    valid_losses = np.array(valid_losses)\n",
        "\n",
        "    # calculate validation accuracy from y_true and y_pred\n",
        "    fan_accuracy = metrics.accuracy_score(y_true[:,0], y_pred[:,0])\n",
        "    blotch_accuracy = metrics.accuracy_score(y_true[:,1], y_pred[:,1])\n",
        "    exact_accuracy = np.all(y_true == y_pred, axis=1).mean()\n",
        "\n",
        "    # calculate the mean validation loss\n",
        "    valid_loss = valid_losses.mean()\n",
        "\n",
        "    return valid_loss, fan_accuracy, blotch_accuracy, exact_accuracy\n",
        "\n",
        "\n",
        "def train(epochs, first_epoch=1, model_name=''):\n",
        "    for epoch in range(first_epoch, epochs+first_epoch):\n",
        "\n",
        "        # train\n",
        "        train_loss = train_for_epoch(optimizer)\n",
        "\n",
        "        # validation\n",
        "        valid_loss, fan_accuracy, blotch_accuracy, both_accuracy = validate()\n",
        "        print(f'[{epoch:02d}] train loss: {train_loss.mean():0.04f}  '\n",
        "              f'valid loss: {valid_loss:0.04f}  ',\n",
        "              f'fan acc: {fan_accuracy:0.04f}  ',\n",
        "              f'blotch acc: {blotch_accuracy:0.04f}  ',\n",
        "              f'both acc: {both_accuracy:0.04f}'\n",
        "        )\n",
        "        \n",
        "        # update learning curves\n",
        "        avg_train_losses.append(train_loss.mean())\n",
        "        avg_valid_losses.append(valid_loss)\n",
        "        valid_accuracies.append((fan_accuracy, blotch_accuracy, both_accuracy))\n",
        "        \n",
        "        # save checkpoint\n",
        "        torch.save(model, f'checkpoints/baseline_{model_name}_{epoch:03d}.pkl')"
      ],
      "id": "26eb5f0c-7b1d-49f1-8682-097d0ae64e54"
    },
    {
      "cell_type": "markdown",
      "metadata": {
        "id": "7b750e3a-4357-420e-b89e-aa1afbd35e2d"
      },
      "source": [
        "## Constant classifier accuracy\n",
        "\n",
        "Evaluate how accurate would a $f(x) = \\text{\"most common class\"}$ classifier be? "
      ],
      "id": "7b750e3a-4357-420e-b89e-aa1afbd35e2d"
    },
    {
      "cell_type": "code",
      "execution_count": null,
      "metadata": {
        "id": "66147496-e69a-4391-89bf-d24d7c797371"
      },
      "outputs": [],
      "source": [
        "def constant_clf_accuracy():\n",
        "    y_true, y_pred = [], []\n",
        "    with torch.no_grad():\n",
        "        for _, target in valid_loader:\n",
        "            y_true.extend(target.cpu().numpy())\n",
        "            y_pred.extend(np.ones((target.shape[0], 2), dtype=np.float32))\n",
        "            \n",
        "    y_true = np.array(y_true)\n",
        "    y_pred = np.array(y_pred)\n",
        "        \n",
        "    # calculate validation accuracy from y_true and y_pred\n",
        "    f = metrics.accuracy_score(y_true[:,0], y_pred[:,0])\n",
        "    b = metrics.accuracy_score(y_true[:,1], y_pred[:,1])\n",
        "    t = np.all(y_true == y_pred, axis=1).mean()\n",
        "    print(f'fan: {f}  blotch: {b}  both: {t}')"
      ],
      "id": "66147496-e69a-4391-89bf-d24d7c797371"
    },
    {
      "cell_type": "code",
      "execution_count": null,
      "metadata": {
        "colab": {
          "base_uri": "https://localhost:8080/"
        },
        "id": "0148aec5-f941-4499-b107-65bff2ca87c8",
        "outputId": "0cfe1e84-623a-49a6-e61e-a3b85fe6ef40"
      },
      "outputs": [
        {
          "output_type": "stream",
          "name": "stdout",
          "text": [
            "fan: 0.6218644702358667  blotch: 0.8083114938225384  both: 0.4399101460127293\n"
          ]
        }
      ],
      "source": [
        "constant_clf_accuracy()"
      ],
      "id": "0148aec5-f941-4499-b107-65bff2ca87c8"
    },
    {
      "cell_type": "markdown",
      "metadata": {
        "id": "2c698dd8-6e41-4bba-9f77-82ed162a647f"
      },
      "source": [
        "## Train the model\n",
        "Call the ``train(n)`` function to train for ``n`` epochs."
      ],
      "id": "2c698dd8-6e41-4bba-9f77-82ed162a647f"
    },
    {
      "cell_type": "code",
      "execution_count": null,
      "metadata": {
        "colab": {
          "base_uri": "https://localhost:8080/"
        },
        "id": "b1baa5b9-b8d7-41c2-8e93-061af75185c4",
        "outputId": "b14f24d1-5a20-45ec-88eb-40d2bc462012"
      },
      "outputs": [
        {
          "output_type": "stream",
          "name": "stderr",
          "text": [
            "100%|██████████| 376/376 [01:09<00:00,  5.40it/s]\n"
          ]
        },
        {
          "output_type": "stream",
          "name": "stdout",
          "text": [
            "[01] train loss: 0.5404  valid loss: 0.4895   fan acc: 0.7274   blotch acc: 0.8117   both acc: 0.5717\n"
          ]
        },
        {
          "output_type": "stream",
          "name": "stderr",
          "text": [
            "100%|██████████| 376/376 [01:04<00:00,  5.81it/s]\n"
          ]
        },
        {
          "output_type": "stream",
          "name": "stdout",
          "text": [
            "[02] train loss: 0.4659  valid loss: 0.4468   fan acc: 0.7570   blotch acc: 0.8248   both acc: 0.6162\n"
          ]
        },
        {
          "output_type": "stream",
          "name": "stderr",
          "text": [
            "100%|██████████| 376/376 [01:04<00:00,  5.81it/s]\n"
          ]
        },
        {
          "output_type": "stream",
          "name": "stdout",
          "text": [
            "[03] train loss: 0.4292  valid loss: 0.4277   fan acc: 0.7701   blotch acc: 0.8248   both acc: 0.6252\n"
          ]
        },
        {
          "output_type": "stream",
          "name": "stderr",
          "text": [
            "100%|██████████| 376/376 [01:04<00:00,  5.86it/s]\n"
          ]
        },
        {
          "output_type": "stream",
          "name": "stdout",
          "text": [
            "[04] train loss: 0.4010  valid loss: 0.4156   fan acc: 0.7731   blotch acc: 0.8334   both acc: 0.6383\n"
          ]
        },
        {
          "output_type": "stream",
          "name": "stderr",
          "text": [
            "100%|██████████| 376/376 [01:03<00:00,  5.89it/s]\n"
          ]
        },
        {
          "output_type": "stream",
          "name": "stdout",
          "text": [
            "[05] train loss: 0.3790  valid loss: 0.4064   fan acc: 0.7825   blotch acc: 0.8341   both acc: 0.6451\n"
          ]
        }
      ],
      "source": [
        "n = 5\n",
        "train(n, model_name='resnet50')"
      ],
      "id": "b1baa5b9-b8d7-41c2-8e93-061af75185c4"
    },
    {
      "cell_type": "markdown",
      "metadata": {
        "id": "v5rkQDuafysb"
      },
      "source": [
        "Let's train the model for more epochs"
      ],
      "id": "v5rkQDuafysb"
    },
    {
      "cell_type": "code",
      "execution_count": null,
      "metadata": {
        "colab": {
          "base_uri": "https://localhost:8080/"
        },
        "id": "DE_VCaWZfyhK",
        "outputId": "200854ab-9e7b-4edc-fde0-0f4ca3362da5"
      },
      "outputs": [
        {
          "output_type": "stream",
          "name": "stderr",
          "text": [
            "100%|██████████| 376/376 [01:04<00:00,  5.86it/s]\n"
          ]
        },
        {
          "output_type": "stream",
          "name": "stdout",
          "text": [
            "[06] train loss: 0.3638  valid loss: 0.4062   fan acc: 0.7866   blotch acc: 0.8330   both acc: 0.6503\n"
          ]
        },
        {
          "output_type": "stream",
          "name": "stderr",
          "text": [
            "100%|██████████| 376/376 [01:04<00:00,  5.84it/s]\n"
          ]
        },
        {
          "output_type": "stream",
          "name": "stdout",
          "text": [
            "[07] train loss: 0.3463  valid loss: 0.3979   fan acc: 0.7986   blotch acc: 0.8349   both acc: 0.6593\n"
          ]
        },
        {
          "output_type": "stream",
          "name": "stderr",
          "text": [
            "100%|██████████| 376/376 [01:04<00:00,  5.86it/s]\n"
          ]
        },
        {
          "output_type": "stream",
          "name": "stdout",
          "text": [
            "[08] train loss: 0.3316  valid loss: 0.3975   fan acc: 0.7963   blotch acc: 0.8311   both acc: 0.6593\n"
          ]
        },
        {
          "output_type": "stream",
          "name": "stderr",
          "text": [
            "100%|██████████| 376/376 [01:04<00:00,  5.85it/s]\n"
          ]
        },
        {
          "output_type": "stream",
          "name": "stdout",
          "text": [
            "[09] train loss: 0.3116  valid loss: 0.4029   fan acc: 0.7956   blotch acc: 0.8323   both acc: 0.6593\n"
          ]
        },
        {
          "output_type": "stream",
          "name": "stderr",
          "text": [
            "100%|██████████| 376/376 [01:04<00:00,  5.83it/s]\n"
          ]
        },
        {
          "output_type": "stream",
          "name": "stdout",
          "text": [
            "[10] train loss: 0.2964  valid loss: 0.3947   fan acc: 0.8042   blotch acc: 0.8360   both acc: 0.6664\n"
          ]
        },
        {
          "output_type": "stream",
          "name": "stderr",
          "text": [
            "100%|██████████| 376/376 [01:04<00:00,  5.85it/s]\n"
          ]
        },
        {
          "output_type": "stream",
          "name": "stdout",
          "text": [
            "[11] train loss: 0.2826  valid loss: 0.4127   fan acc: 0.7971   blotch acc: 0.8308   both acc: 0.6567\n"
          ]
        },
        {
          "output_type": "stream",
          "name": "stderr",
          "text": [
            "100%|██████████| 376/376 [01:03<00:00,  5.89it/s]\n"
          ]
        },
        {
          "output_type": "stream",
          "name": "stdout",
          "text": [
            "[12] train loss: 0.2665  valid loss: 0.4143   fan acc: 0.7937   blotch acc: 0.8383   both acc: 0.6586\n"
          ]
        },
        {
          "output_type": "stream",
          "name": "stderr",
          "text": [
            "100%|██████████| 376/376 [01:04<00:00,  5.83it/s]\n"
          ]
        },
        {
          "output_type": "stream",
          "name": "stdout",
          "text": [
            "[13] train loss: 0.2488  valid loss: 0.4313   fan acc: 0.8004   blotch acc: 0.8330   both acc: 0.6601\n"
          ]
        },
        {
          "output_type": "stream",
          "name": "stderr",
          "text": [
            "100%|██████████| 376/376 [01:04<00:00,  5.82it/s]\n"
          ]
        },
        {
          "output_type": "stream",
          "name": "stdout",
          "text": [
            "[14] train loss: 0.2320  valid loss: 0.4387   fan acc: 0.7941   blotch acc: 0.8282   both acc: 0.6529\n"
          ]
        },
        {
          "output_type": "stream",
          "name": "stderr",
          "text": [
            "100%|██████████| 376/376 [01:04<00:00,  5.83it/s]\n"
          ]
        },
        {
          "output_type": "stream",
          "name": "stdout",
          "text": [
            "[15] train loss: 0.2173  valid loss: 0.4568   fan acc: 0.7941   blotch acc: 0.8341   both acc: 0.6574\n"
          ]
        },
        {
          "output_type": "stream",
          "name": "stderr",
          "text": [
            "100%|██████████| 376/376 [01:04<00:00,  5.81it/s]\n"
          ]
        },
        {
          "output_type": "stream",
          "name": "stdout",
          "text": [
            "[16] train loss: 0.2002  valid loss: 0.4590   fan acc: 0.8031   blotch acc: 0.8297   both acc: 0.6627\n"
          ]
        },
        {
          "output_type": "stream",
          "name": "stderr",
          "text": [
            "100%|██████████| 376/376 [01:04<00:00,  5.84it/s]\n"
          ]
        },
        {
          "output_type": "stream",
          "name": "stdout",
          "text": [
            "[17] train loss: 0.1879  valid loss: 0.4794   fan acc: 0.7915   blotch acc: 0.8237   both acc: 0.6473\n"
          ]
        },
        {
          "output_type": "stream",
          "name": "stderr",
          "text": [
            "100%|██████████| 376/376 [01:04<00:00,  5.79it/s]\n"
          ]
        },
        {
          "output_type": "stream",
          "name": "stdout",
          "text": [
            "[18] train loss: 0.1767  valid loss: 0.4861   fan acc: 0.7975   blotch acc: 0.8300   both acc: 0.6544\n"
          ]
        },
        {
          "output_type": "stream",
          "name": "stderr",
          "text": [
            "100%|██████████| 376/376 [01:04<00:00,  5.82it/s]\n"
          ]
        },
        {
          "output_type": "stream",
          "name": "stdout",
          "text": [
            "[19] train loss: 0.1625  valid loss: 0.5024   fan acc: 0.8012   blotch acc: 0.8326   both acc: 0.6630\n"
          ]
        },
        {
          "output_type": "stream",
          "name": "stderr",
          "text": [
            "100%|██████████| 376/376 [01:04<00:00,  5.83it/s]\n"
          ]
        },
        {
          "output_type": "stream",
          "name": "stdout",
          "text": [
            "[20] train loss: 0.1469  valid loss: 0.5138   fan acc: 0.8053   blotch acc: 0.8259   both acc: 0.6627\n"
          ]
        },
        {
          "output_type": "stream",
          "name": "stderr",
          "text": [
            "100%|██████████| 376/376 [01:04<00:00,  5.80it/s]\n"
          ]
        },
        {
          "output_type": "stream",
          "name": "stdout",
          "text": [
            "[21] train loss: 0.1378  valid loss: 0.5317   fan acc: 0.8008   blotch acc: 0.8345   both acc: 0.6645\n"
          ]
        },
        {
          "output_type": "stream",
          "name": "stderr",
          "text": [
            "100%|██████████| 376/376 [01:04<00:00,  5.84it/s]\n"
          ]
        },
        {
          "output_type": "stream",
          "name": "stdout",
          "text": [
            "[22] train loss: 0.1249  valid loss: 0.5548   fan acc: 0.8012   blotch acc: 0.8237   both acc: 0.6548\n"
          ]
        },
        {
          "output_type": "stream",
          "name": "stderr",
          "text": [
            "100%|██████████| 376/376 [01:04<00:00,  5.82it/s]\n"
          ]
        },
        {
          "output_type": "stream",
          "name": "stdout",
          "text": [
            "[23] train loss: 0.1173  valid loss: 0.5764   fan acc: 0.7885   blotch acc: 0.8237   both acc: 0.6458\n"
          ]
        },
        {
          "output_type": "stream",
          "name": "stderr",
          "text": [
            "100%|██████████| 376/376 [01:04<00:00,  5.86it/s]\n"
          ]
        },
        {
          "output_type": "stream",
          "name": "stdout",
          "text": [
            "[24] train loss: 0.1078  valid loss: 0.5834   fan acc: 0.8023   blotch acc: 0.8289   both acc: 0.6619\n"
          ]
        },
        {
          "output_type": "stream",
          "name": "stderr",
          "text": [
            "100%|██████████| 376/376 [01:04<00:00,  5.84it/s]\n"
          ]
        },
        {
          "output_type": "stream",
          "name": "stdout",
          "text": [
            "[25] train loss: 0.0977  valid loss: 0.5976   fan acc: 0.7990   blotch acc: 0.8158   both acc: 0.6469\n"
          ]
        }
      ],
      "source": [
        "train(20, first_epoch=6, model_name='resnet50')"
      ],
      "id": "DE_VCaWZfyhK"
    },
    {
      "cell_type": "markdown",
      "metadata": {
        "id": "lYyas9nwj0WP"
      },
      "source": [
        "Let's plot the training and testing losses"
      ],
      "id": "lYyas9nwj0WP"
    },
    {
      "cell_type": "code",
      "execution_count": null,
      "metadata": {
        "id": "WAXnwnYdnnPm"
      },
      "outputs": [],
      "source": [
        "def plot_losses(classifier):\n",
        "  plt.plot(avg_train_losses, label='Average training losses')\n",
        "  plt.plot(avg_valid_losses, label='Average valid losses')\n",
        "\n",
        "  plt.legend()\n",
        "  plt.title(f'Losses for {classifier}')\n",
        "  plt.show()\n",
        "\n",
        "def plot_accuracies(classifier):\n",
        "  plt.plot([v[0] for v in valid_accuracies], label='Fan accuracies')\n",
        "  plt.plot([v[1] for v in valid_accuracies], label='Bloth accuracies')\n",
        "  plt.plot([v[2] for v in valid_accuracies], label='Both accuracies')\n",
        "\n",
        "  plt.legend()\n",
        "  plt.title(f'Accuracies for {classifier}')\n",
        "  plt.show()"
      ],
      "id": "WAXnwnYdnnPm"
    },
    {
      "cell_type": "code",
      "execution_count": null,
      "metadata": {
        "colab": {
          "base_uri": "https://localhost:8080/",
          "height": 452
        },
        "id": "FyTb7XTTmG76",
        "outputId": "e07d2a20-fc3e-401e-d5dd-ee5cea7fa2aa"
      },
      "outputs": [
        {
          "output_type": "display_data",
          "data": {
            "text/plain": [
              "<Figure size 640x480 with 1 Axes>"
            ],
            "image/png": "[encoded data removed]"
          },
          "metadata": {}
        }
      ],
      "source": [
        "plot_losses('ResNet50')"
      ],
      "id": "FyTb7XTTmG76"
    },
    {
      "cell_type": "code",
      "execution_count": null,
      "metadata": {
        "colab": {
          "base_uri": "https://localhost:8080/",
          "height": 452
        },
        "id": "bNDJz0WTzPig",
        "outputId": "841504b3-6a5d-434a-e6df-29617f9a36b2"
      },
      "outputs": [
        {
          "output_type": "display_data",
          "data": {
            "text/plain": [
              "<Figure size 640x480 with 1 Axes>"
            ],
            "image/png": "[encoded data removed]"
          },
          "metadata": {}
        }
      ],
      "source": [
        "plot_accuracies('ResNet50')"
      ],
      "id": "bNDJz0WTzPig"
    },
    {
      "cell_type": "markdown",
      "metadata": {
        "id": "GoEExbPce5iC"
      },
      "source": [
        "# Experiments"
      ],
      "id": "GoEExbPce5iC"
    },
    {
      "cell_type": "code",
      "source": [
        "resnet = model\n",
        "resnet_avg_train_losses = avg_train_losses\n",
        "resnet_avg_valid_losses = avg_valid_losses\n",
        "resnet_valid_accuracies = valid_accuracies"
      ],
      "metadata": {
        "id": "fEAFRkbkHyVc"
      },
      "id": "fEAFRkbkHyVc",
      "execution_count": null,
      "outputs": []
    },
    {
      "cell_type": "markdown",
      "source": [
        "Let's test with ConvNeXt"
      ],
      "metadata": {
        "id": "Aq6gOKk9bG0S"
      },
      "id": "Aq6gOKk9bG0S"
    },
    {
      "cell_type": "code",
      "execution_count": null,
      "metadata": {
        "colab": {
          "base_uri": "https://localhost:8080/"
        },
        "id": "zIRyV2oUhloR",
        "outputId": "5ad1cbe5-7b32-4394-973d-ca7398cbf911"
      },
      "outputs": [
        {
          "output_type": "stream",
          "name": "stderr",
          "text": [
            "100%|██████████| 376/376 [02:18<00:00,  2.71it/s]\n"
          ]
        },
        {
          "output_type": "stream",
          "name": "stdout",
          "text": [
            "[01] train loss: 0.5945  valid loss: 0.6010   fan acc: 0.5470   blotch acc: 0.7960   both acc: 0.4306\n"
          ]
        },
        {
          "output_type": "stream",
          "name": "stderr",
          "text": [
            "100%|██████████| 376/376 [02:19<00:00,  2.70it/s]\n"
          ]
        },
        {
          "output_type": "stream",
          "name": "stdout",
          "text": [
            "[02] train loss: 0.5842  valid loss: 0.5766   fan acc: 0.6387   blotch acc: 0.8087   both acc: 0.4650\n"
          ]
        },
        {
          "output_type": "stream",
          "name": "stderr",
          "text": [
            "100%|██████████| 376/376 [02:19<00:00,  2.70it/s]\n"
          ]
        },
        {
          "output_type": "stream",
          "name": "stdout",
          "text": [
            "[03] train loss: 0.5780  valid loss: 0.5678   fan acc: 0.6222   blotch acc: 0.8083   both acc: 0.4414\n"
          ]
        },
        {
          "output_type": "stream",
          "name": "stderr",
          "text": [
            "100%|██████████| 376/376 [02:19<00:00,  2.70it/s]\n"
          ]
        },
        {
          "output_type": "stream",
          "name": "stdout",
          "text": [
            "[04] train loss: 0.5777  valid loss: 0.5750   fan acc: 0.6129   blotch acc: 0.8083   both acc: 0.4526\n"
          ]
        },
        {
          "output_type": "stream",
          "name": "stderr",
          "text": [
            "100%|██████████| 376/376 [02:19<00:00,  2.69it/s]\n"
          ]
        },
        {
          "output_type": "stream",
          "name": "stdout",
          "text": [
            "[05] train loss: 0.5768  valid loss: 0.5720   fan acc: 0.6305   blotch acc: 0.8083   both acc: 0.4511\n"
          ]
        },
        {
          "output_type": "stream",
          "name": "stderr",
          "text": [
            "100%|██████████| 376/376 [02:20<00:00,  2.68it/s]\n"
          ]
        },
        {
          "output_type": "stream",
          "name": "stdout",
          "text": [
            "[06] train loss: 0.5751  valid loss: 0.5712   fan acc: 0.6264   blotch acc: 0.8083   both acc: 0.4452\n"
          ]
        },
        {
          "output_type": "stream",
          "name": "stderr",
          "text": [
            "100%|██████████| 376/376 [02:20<00:00,  2.67it/s]\n"
          ]
        },
        {
          "output_type": "stream",
          "name": "stdout",
          "text": [
            "[07] train loss: 0.5745  valid loss: 0.6148   fan acc: 0.4365   blotch acc: 0.8083   both acc: 0.3823\n"
          ]
        },
        {
          "output_type": "stream",
          "name": "stderr",
          "text": [
            "100%|██████████| 376/376 [02:20<00:00,  2.68it/s]\n"
          ]
        },
        {
          "output_type": "stream",
          "name": "stdout",
          "text": [
            "[08] train loss: 0.5741  valid loss: 0.5714   fan acc: 0.6301   blotch acc: 0.8079   both acc: 0.4601\n"
          ]
        },
        {
          "output_type": "stream",
          "name": "stderr",
          "text": [
            "100%|██████████| 376/376 [02:19<00:00,  2.69it/s]\n"
          ]
        },
        {
          "output_type": "stream",
          "name": "stdout",
          "text": [
            "[09] train loss: 0.5747  valid loss: 0.5724   fan acc: 0.6275   blotch acc: 0.8083   both acc: 0.4478\n"
          ]
        },
        {
          "output_type": "stream",
          "name": "stderr",
          "text": [
            "100%|██████████| 376/376 [02:19<00:00,  2.69it/s]\n"
          ]
        },
        {
          "output_type": "stream",
          "name": "stdout",
          "text": [
            "[10] train loss: 0.5739  valid loss: 0.5733   fan acc: 0.6312   blotch acc: 0.8023   both acc: 0.4560\n"
          ]
        },
        {
          "output_type": "stream",
          "name": "stderr",
          "text": [
            "100%|██████████| 376/376 [02:19<00:00,  2.69it/s]\n"
          ]
        },
        {
          "output_type": "stream",
          "name": "stdout",
          "text": [
            "[11] train loss: 0.5725  valid loss: 0.5716   fan acc: 0.6234   blotch acc: 0.8083   both acc: 0.4511\n"
          ]
        },
        {
          "output_type": "stream",
          "name": "stderr",
          "text": [
            "100%|██████████| 376/376 [02:19<00:00,  2.69it/s]\n"
          ]
        },
        {
          "output_type": "stream",
          "name": "stdout",
          "text": [
            "[12] train loss: 0.5709  valid loss: 0.5729   fan acc: 0.6267   blotch acc: 0.8076   both acc: 0.4545\n"
          ]
        },
        {
          "output_type": "stream",
          "name": "stderr",
          "text": [
            "100%|██████████| 376/376 [02:19<00:00,  2.69it/s]\n"
          ]
        },
        {
          "output_type": "stream",
          "name": "stdout",
          "text": [
            "[13] train loss: 0.5729  valid loss: 0.5753   fan acc: 0.6200   blotch acc: 0.8083   both acc: 0.4485\n"
          ]
        },
        {
          "output_type": "stream",
          "name": "stderr",
          "text": [
            "100%|██████████| 376/376 [02:19<00:00,  2.69it/s]\n"
          ]
        },
        {
          "output_type": "stream",
          "name": "stdout",
          "text": [
            "[14] train loss: 0.5721  valid loss: 0.5789   fan acc: 0.5747   blotch acc: 0.8064   both acc: 0.4343\n"
          ]
        },
        {
          "output_type": "stream",
          "name": "stderr",
          "text": [
            "100%|██████████| 376/376 [02:19<00:00,  2.69it/s]\n"
          ]
        },
        {
          "output_type": "stream",
          "name": "stdout",
          "text": [
            "[15] train loss: 0.5712  valid loss: 0.5732   fan acc: 0.6174   blotch acc: 0.8083   both acc: 0.4489\n"
          ]
        },
        {
          "output_type": "stream",
          "name": "stderr",
          "text": [
            "100%|██████████| 376/376 [02:21<00:00,  2.65it/s]\n"
          ]
        },
        {
          "output_type": "stream",
          "name": "stdout",
          "text": [
            "[16] train loss: 0.5690  valid loss: 0.5747   fan acc: 0.6058   blotch acc: 0.8072   both acc: 0.4448\n"
          ]
        },
        {
          "output_type": "stream",
          "name": "stderr",
          "text": [
            "100%|██████████| 376/376 [02:19<00:00,  2.69it/s]\n"
          ]
        },
        {
          "output_type": "stream",
          "name": "stdout",
          "text": [
            "[17] train loss: 0.5699  valid loss: 0.5700   fan acc: 0.6226   blotch acc: 0.8083   both acc: 0.4433\n"
          ]
        },
        {
          "output_type": "stream",
          "name": "stderr",
          "text": [
            "100%|██████████| 376/376 [02:20<00:00,  2.67it/s]\n"
          ]
        },
        {
          "output_type": "stream",
          "name": "stdout",
          "text": [
            "[18] train loss: 0.5686  valid loss: 0.5869   fan acc: 0.5459   blotch acc: 0.8079   both acc: 0.4332\n"
          ]
        },
        {
          "output_type": "stream",
          "name": "stderr",
          "text": [
            "100%|██████████| 376/376 [02:20<00:00,  2.68it/s]\n"
          ]
        },
        {
          "output_type": "stream",
          "name": "stdout",
          "text": [
            "[19] train loss: 0.5709  valid loss: 0.5682   fan acc: 0.6264   blotch acc: 0.8083   both acc: 0.4500\n"
          ]
        },
        {
          "output_type": "stream",
          "name": "stderr",
          "text": [
            "100%|██████████| 376/376 [02:19<00:00,  2.69it/s]\n"
          ]
        },
        {
          "output_type": "stream",
          "name": "stdout",
          "text": [
            "[20] train loss: 0.5676  valid loss: 0.5899   fan acc: 0.5133   blotch acc: 0.8072   both acc: 0.4201\n"
          ]
        }
      ],
      "source": [
        "avg_train_losses = []\n",
        "avg_valid_losses = []\n",
        "valid_accuracies = []\n",
        "\n",
        "model = models.convnext_base(num_classes=2)\n",
        "model.to(device);\n",
        "\n",
        "optimizer = optim.SGD(model.parameters(), lr=0.001, momentum=0.9, weight_decay=1e-4)\n",
        "\n",
        "train(20, model_name='convnext_base')"
      ],
      "id": "zIRyV2oUhloR"
    },
    {
      "cell_type": "code",
      "source": [
        "plot_losses('ConvNeXt')"
      ],
      "metadata": {
        "colab": {
          "base_uri": "https://localhost:8080/",
          "height": 452
        },
        "id": "emY1y4QAj6vs",
        "outputId": "7fc9f860-6101-49ad-bcb8-92efeb4ec72c"
      },
      "id": "emY1y4QAj6vs",
      "execution_count": null,
      "outputs": [
        {
          "output_type": "display_data",
          "data": {
            "text/plain": [
              "<Figure size 640x480 with 1 Axes>"
            ],
            "image/png": "[encoded data removed]"
          },
          "metadata": {}
        }
      ]
    },
    {
      "cell_type": "code",
      "source": [
        "plot_accuracies('ConvNeXt')"
      ],
      "metadata": {
        "colab": {
          "base_uri": "https://localhost:8080/",
          "height": 452
        },
        "id": "A2iI3EqWj9jL",
        "outputId": "50d6d882-6dd6-44af-e4b5-4e53153f961f"
      },
      "id": "A2iI3EqWj9jL",
      "execution_count": null,
      "outputs": [
        {
          "output_type": "display_data",
          "data": {
            "text/plain": [
              "<Figure size 640x480 with 1 Axes>"
            ],
            "image/png": "[encoded data removed]"
          },
          "metadata": {}
        }
      ]
    },
    {
      "cell_type": "markdown",
      "source": [
        "Let's see if AlexNet does any better"
      ],
      "metadata": {
        "id": "r1yr3pVXqxXZ"
      },
      "id": "r1yr3pVXqxXZ"
    },
    {
      "cell_type": "code",
      "source": [
        "convnext = model\n",
        "convnext_avg_train_losses = avg_train_losses\n",
        "convnext_avg_valid_losses = avg_valid_losses\n",
        "convnext_valid_accuracies = valid_accuracies"
      ],
      "metadata": {
        "id": "gRuXmsKxqzce"
      },
      "id": "gRuXmsKxqzce",
      "execution_count": null,
      "outputs": []
    },
    {
      "cell_type": "code",
      "source": [
        "avg_train_losses = []\n",
        "avg_valid_losses = []\n",
        "valid_accuracies = []\n",
        "\n",
        "model = models.alexnet(num_classes=2)\n",
        "model.to(device);\n",
        "\n",
        "optimizer = optim.SGD(model.parameters(), lr=0.001, momentum=0.9, weight_decay=1e-4)\n",
        "\n",
        "train(20, model_name='alexnet')"
      ],
      "metadata": {
        "colab": {
          "base_uri": "https://localhost:8080/"
        },
        "id": "Nd3YKJ7Oq6br",
        "outputId": "ff407b5c-a353-4888-b4c8-2843868e4770"
      },
      "id": "Nd3YKJ7Oq6br",
      "execution_count": null,
      "outputs": [
        {
          "output_type": "stream",
          "name": "stderr",
          "text": [
            "100%|██████████| 376/376 [00:39<00:00,  9.47it/s]\n"
          ]
        },
        {
          "output_type": "stream",
          "name": "stdout",
          "text": [
            "[01] train loss: 0.6295  valid loss: 0.5833   fan acc: 0.6219   blotch acc: 0.8083   both acc: 0.4399\n"
          ]
        },
        {
          "output_type": "stream",
          "name": "stderr",
          "text": [
            "100%|██████████| 376/376 [00:36<00:00, 10.44it/s]\n"
          ]
        },
        {
          "output_type": "stream",
          "name": "stdout",
          "text": [
            "[02] train loss: 0.5855  valid loss: 0.5778   fan acc: 0.6219   blotch acc: 0.8083   both acc: 0.4399\n"
          ]
        },
        {
          "output_type": "stream",
          "name": "stderr",
          "text": [
            "100%|██████████| 376/376 [00:36<00:00, 10.31it/s]\n"
          ]
        },
        {
          "output_type": "stream",
          "name": "stdout",
          "text": [
            "[03] train loss: 0.5834  valid loss: 0.5756   fan acc: 0.6219   blotch acc: 0.8083   both acc: 0.4399\n"
          ]
        },
        {
          "output_type": "stream",
          "name": "stderr",
          "text": [
            "100%|██████████| 376/376 [00:35<00:00, 10.55it/s]\n"
          ]
        },
        {
          "output_type": "stream",
          "name": "stdout",
          "text": [
            "[04] train loss: 0.5816  valid loss: 0.5745   fan acc: 0.6219   blotch acc: 0.8083   both acc: 0.4399\n"
          ]
        },
        {
          "output_type": "stream",
          "name": "stderr",
          "text": [
            "100%|██████████| 376/376 [00:35<00:00, 10.66it/s]\n"
          ]
        },
        {
          "output_type": "stream",
          "name": "stdout",
          "text": [
            "[05] train loss: 0.5804  valid loss: 0.5732   fan acc: 0.6219   blotch acc: 0.8083   both acc: 0.4399\n"
          ]
        },
        {
          "output_type": "stream",
          "name": "stderr",
          "text": [
            "100%|██████████| 376/376 [00:35<00:00, 10.55it/s]\n"
          ]
        },
        {
          "output_type": "stream",
          "name": "stdout",
          "text": [
            "[06] train loss: 0.5792  valid loss: 0.5729   fan acc: 0.6219   blotch acc: 0.8083   both acc: 0.4399\n"
          ]
        },
        {
          "output_type": "stream",
          "name": "stderr",
          "text": [
            "100%|██████████| 376/376 [00:36<00:00, 10.20it/s]\n"
          ]
        },
        {
          "output_type": "stream",
          "name": "stdout",
          "text": [
            "[07] train loss: 0.5778  valid loss: 0.5702   fan acc: 0.6219   blotch acc: 0.8083   both acc: 0.4399\n"
          ]
        },
        {
          "output_type": "stream",
          "name": "stderr",
          "text": [
            "100%|██████████| 376/376 [00:35<00:00, 10.61it/s]\n"
          ]
        },
        {
          "output_type": "stream",
          "name": "stdout",
          "text": [
            "[08] train loss: 0.5763  valid loss: 0.5708   fan acc: 0.6219   blotch acc: 0.8083   both acc: 0.4399\n"
          ]
        },
        {
          "output_type": "stream",
          "name": "stderr",
          "text": [
            "100%|██████████| 376/376 [00:35<00:00, 10.74it/s]\n"
          ]
        },
        {
          "output_type": "stream",
          "name": "stdout",
          "text": [
            "[09] train loss: 0.5746  valid loss: 0.5671   fan acc: 0.6237   blotch acc: 0.8083   both acc: 0.4414\n"
          ]
        },
        {
          "output_type": "stream",
          "name": "stderr",
          "text": [
            "100%|██████████| 376/376 [00:35<00:00, 10.53it/s]\n"
          ]
        },
        {
          "output_type": "stream",
          "name": "stdout",
          "text": [
            "[10] train loss: 0.5726  valid loss: 0.5646   fan acc: 0.6455   blotch acc: 0.8083   both acc: 0.4620\n"
          ]
        },
        {
          "output_type": "stream",
          "name": "stderr",
          "text": [
            "100%|██████████| 376/376 [00:35<00:00, 10.61it/s]\n"
          ]
        },
        {
          "output_type": "stream",
          "name": "stdout",
          "text": [
            "[11] train loss: 0.5701  valid loss: 0.5620   fan acc: 0.6552   blotch acc: 0.8083   both acc: 0.4736\n"
          ]
        },
        {
          "output_type": "stream",
          "name": "stderr",
          "text": [
            "100%|██████████| 376/376 [00:36<00:00, 10.39it/s]\n"
          ]
        },
        {
          "output_type": "stream",
          "name": "stdout",
          "text": [
            "[12] train loss: 0.5672  valid loss: 0.5609   fan acc: 0.6672   blotch acc: 0.8083   both acc: 0.4931\n"
          ]
        },
        {
          "output_type": "stream",
          "name": "stderr",
          "text": [
            "100%|██████████| 376/376 [00:35<00:00, 10.55it/s]\n"
          ]
        },
        {
          "output_type": "stream",
          "name": "stdout",
          "text": [
            "[13] train loss: 0.5638  valid loss: 0.5558   fan acc: 0.6571   blotch acc: 0.8083   both acc: 0.4882\n"
          ]
        },
        {
          "output_type": "stream",
          "name": "stderr",
          "text": [
            "100%|██████████| 376/376 [00:34<00:00, 10.83it/s]\n"
          ]
        },
        {
          "output_type": "stream",
          "name": "stdout",
          "text": [
            "[14] train loss: 0.5602  valid loss: 0.5528   fan acc: 0.6638   blotch acc: 0.8083   both acc: 0.4991\n"
          ]
        },
        {
          "output_type": "stream",
          "name": "stderr",
          "text": [
            "100%|██████████| 376/376 [00:35<00:00, 10.61it/s]\n"
          ]
        },
        {
          "output_type": "stream",
          "name": "stdout",
          "text": [
            "[15] train loss: 0.5567  valid loss: 0.5528   fan acc: 0.6612   blotch acc: 0.8083   both acc: 0.4957\n"
          ]
        },
        {
          "output_type": "stream",
          "name": "stderr",
          "text": [
            "100%|██████████| 376/376 [00:35<00:00, 10.62it/s]\n"
          ]
        },
        {
          "output_type": "stream",
          "name": "stdout",
          "text": [
            "[16] train loss: 0.5544  valid loss: 0.5510   fan acc: 0.6660   blotch acc: 0.8083   both acc: 0.5032\n"
          ]
        },
        {
          "output_type": "stream",
          "name": "stderr",
          "text": [
            "100%|██████████| 376/376 [00:35<00:00, 10.61it/s]\n"
          ]
        },
        {
          "output_type": "stream",
          "name": "stdout",
          "text": [
            "[17] train loss: 0.5510  valid loss: 0.5458   fan acc: 0.6956   blotch acc: 0.8083   both acc: 0.5470\n"
          ]
        },
        {
          "output_type": "stream",
          "name": "stderr",
          "text": [
            "100%|██████████| 376/376 [00:36<00:00, 10.39it/s]\n"
          ]
        },
        {
          "output_type": "stream",
          "name": "stdout",
          "text": [
            "[18] train loss: 0.5480  valid loss: 0.5466   fan acc: 0.6885   blotch acc: 0.8083   both acc: 0.5328\n"
          ]
        },
        {
          "output_type": "stream",
          "name": "stderr",
          "text": [
            "100%|██████████| 376/376 [00:35<00:00, 10.72it/s]\n"
          ]
        },
        {
          "output_type": "stream",
          "name": "stdout",
          "text": [
            "[19] train loss: 0.5459  valid loss: 0.5402   fan acc: 0.6975   blotch acc: 0.8083   both acc: 0.5410\n"
          ]
        },
        {
          "output_type": "stream",
          "name": "stderr",
          "text": [
            "100%|██████████| 376/376 [00:34<00:00, 10.81it/s]\n"
          ]
        },
        {
          "output_type": "stream",
          "name": "stdout",
          "text": [
            "[20] train loss: 0.5429  valid loss: 0.5432   fan acc: 0.6874   blotch acc: 0.8083   both acc: 0.5474\n"
          ]
        }
      ]
    },
    {
      "cell_type": "code",
      "source": [
        "plot_losses('AlexNet')"
      ],
      "metadata": {
        "colab": {
          "base_uri": "https://localhost:8080/",
          "height": 452
        },
        "id": "c_eRE1pqrBZ2",
        "outputId": "7b96677a-aac6-4f5e-92d8-c8544ee81971"
      },
      "id": "c_eRE1pqrBZ2",
      "execution_count": null,
      "outputs": [
        {
          "output_type": "display_data",
          "data": {
            "text/plain": [
              "<Figure size 640x480 with 1 Axes>"
            ],
            "image/png": "[encoded data removed]"
          },
          "metadata": {}
        }
      ]
    },
    {
      "cell_type": "code",
      "source": [
        "plot_accuracies('AlexNet')"
      ],
      "metadata": {
        "colab": {
          "base_uri": "https://localhost:8080/",
          "height": 452
        },
        "id": "K8o9YdJurDpD",
        "outputId": "e67344fa-30b3-40fb-869b-e3917b326f9d"
      },
      "id": "K8o9YdJurDpD",
      "execution_count": null,
      "outputs": [
        {
          "output_type": "display_data",
          "data": {
            "text/plain": [
              "<Figure size 640x480 with 1 Axes>"
            ],
            "image/png": "[encoded data removed]"
          },
          "metadata": {}
        }
      ]
    },
    {
      "cell_type": "markdown",
      "source": [
        "We can see that amongst these 3 models, resnet50 is the one with better performance."
      ],
      "metadata": {
        "id": "ywf0MDXhumoL"
      },
      "id": "ywf0MDXhumoL"
    }
  ],
  "metadata": {
    "accelerator": "GPU",
    "colab": {
      "provenance": []
    },
    "gpuClass": "standard",
    "kernelspec": {
      "display_name": "Python 3",
      "language": "python",
      "name": "python3"
    },
    "language_info": {
      "codemirror_mode": {
        "name": "ipython",
        "version": 3
      },
      "file_extension": ".py",
      "mimetype": "text/x-python",
      "name": "python",
      "nbconvert_exporter": "python",
      "pygments_lexer": "ipython3",
      "version": "3.8.5"
    }
  },
  "nbformat": 4,
  "nbformat_minor": 5
}